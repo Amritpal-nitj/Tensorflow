{
  "nbformat": 4,
  "nbformat_minor": 0,
  "metadata": {
    "colab": {
      "provenance": [],
      "authorship_tag": "ABX9TyOk0PGxBlBYpQW/8PgIg9nL",
      "include_colab_link": true
    },
    "kernelspec": {
      "name": "python3",
      "display_name": "Python 3"
    },
    "language_info": {
      "name": "python"
    }
  },
  "cells": [
    {
      "cell_type": "markdown",
      "metadata": {
        "id": "view-in-github",
        "colab_type": "text"
      },
      "source": [
        "<a href=\"https://colab.research.google.com/github/Amritpal-nitj/Tensorflow/blob/main/createplaceholderintensorflow2.ipynb\" target=\"_parent\"><img src=\"https://colab.research.google.com/assets/colab-badge.svg\" alt=\"Open In Colab\"/></a>"
      ]
    },
    {
      "cell_type": "markdown",
      "source": [
        "#HOW TO CREATE PLACEHOLDER IN TENSORFLOW2\n",
        "As Placeholder is not present  in tensorflow2 therefore we need to migrate it from tensorflow1"
      ],
      "metadata": {
        "id": "7lAEIMSCEPHF"
      }
    },
    {
      "cell_type": "markdown",
      "source": [
        "**PLACEHOLDER**:\n",
        "\n",
        "it is simply a variable that we will assign data to a later date.it allows us to create our operations and bulid our computation graph,without needing the data."
      ],
      "metadata": {
        "id": "eaFwBRFeFYkZ"
      }
    },
    {
      "cell_type": "code",
      "source": [
        "#syntax to migrate tensorflow1 code to tensorflow2\n",
        "#syntax:tf.compat.v1.placeholder(dtype,shape=None,name=None)"
      ],
      "metadata": {
        "id": "Y0MLlPCGGZ4h"
      },
      "execution_count": null,
      "outputs": []
    },
    {
      "cell_type": "code",
      "source": [
        "import tensorflow as tf"
      ],
      "metadata": {
        "id": "5YjYYCVWGSS0"
      },
      "execution_count": 1,
      "outputs": []
    },
    {
      "cell_type": "code",
      "source": [
        "#placeholder are not executable immediatly so we need to disable eager exicution in TF2 not in 1\n",
        "tf.compat.v1.disable_eager_execution()"
      ],
      "metadata": {
        "id": "wmfh27pnHH0U"
      },
      "execution_count": 3,
      "outputs": []
    },
    {
      "cell_type": "markdown",
      "source": [
        "create placeholder"
      ],
      "metadata": {
        "id": "JQWiHINsMqSJ"
      }
    },
    {
      "cell_type": "code",
      "source": [
        "a=tf.compat.v1.placeholder(dtype=tf.float32,shape=(400,400))\n",
        "a"
      ],
      "metadata": {
        "colab": {
          "base_uri": "https://localhost:8080/"
        },
        "id": "17zpgMYmMvSh",
        "outputId": "f34ba4f6-c1dc-4fe7-ea5b-f79e1b6ad8c2"
      },
      "execution_count": 7,
      "outputs": [
        {
          "output_type": "execute_result",
          "data": {
            "text/plain": [
              "<tf.Tensor 'Placeholder_2:0' shape=(400, 400) dtype=float32>"
            ]
          },
          "metadata": {},
          "execution_count": 7
        }
      ]
    },
    {
      "cell_type": "code",
      "source": [
        "b=tf.compat.v1.placeholder(dtype=tf.float32,shape=(400,400))\n",
        "b"
      ],
      "metadata": {
        "colab": {
          "base_uri": "https://localhost:8080/"
        },
        "id": "2y33M1dpNngl",
        "outputId": "936edf9a-c8f5-44cd-d405-e703458116a2"
      },
      "execution_count": 8,
      "outputs": [
        {
          "output_type": "execute_result",
          "data": {
            "text/plain": [
              "<tf.Tensor 'Placeholder_3:0' shape=(400, 400) dtype=float32>"
            ]
          },
          "metadata": {},
          "execution_count": 8
        }
      ]
    },
    {
      "cell_type": "markdown",
      "source": [
        "Perform mathematical calculations with placeholder"
      ],
      "metadata": {
        "id": "Fyshj22JNZxh"
      }
    },
    {
      "cell_type": "code",
      "source": [
        "c=tf.add(a,b)\n",
        "c"
      ],
      "metadata": {
        "colab": {
          "base_uri": "https://localhost:8080/"
        },
        "id": "LvxjZx2tNrZZ",
        "outputId": "627d0b98-e103-440e-86f4-b2ca6cd20c35"
      },
      "execution_count": 9,
      "outputs": [
        {
          "output_type": "execute_result",
          "data": {
            "text/plain": [
              "<tf.Tensor 'Add:0' shape=(400, 400) dtype=float32>"
            ]
          },
          "metadata": {},
          "execution_count": 9
        }
      ]
    },
    {
      "cell_type": "markdown",
      "source": [
        "FOR DATA"
      ],
      "metadata": {
        "id": "8_XRtQI8N8k3"
      }
    },
    {
      "cell_type": "markdown",
      "source": [
        "create numpy array"
      ],
      "metadata": {
        "id": "wEKawEx_N3R-"
      }
    },
    {
      "cell_type": "code",
      "source": [
        "import numpy as np\n",
        "ones_array=np.ones((400,400),dtype=np.float32)\n",
        "ones_array"
      ],
      "metadata": {
        "colab": {
          "base_uri": "https://localhost:8080/"
        },
        "id": "LIGQifjjN_0C",
        "outputId": "8cb927a5-4ab6-4131-b6b9-300f7712add3"
      },
      "execution_count": 10,
      "outputs": [
        {
          "output_type": "execute_result",
          "data": {
            "text/plain": [
              "array([[1., 1., 1., ..., 1., 1., 1.],\n",
              "       [1., 1., 1., ..., 1., 1., 1.],\n",
              "       [1., 1., 1., ..., 1., 1., 1.],\n",
              "       ...,\n",
              "       [1., 1., 1., ..., 1., 1., 1.],\n",
              "       [1., 1., 1., ..., 1., 1., 1.],\n",
              "       [1., 1., 1., ..., 1., 1., 1.]], dtype=float32)"
            ]
          },
          "metadata": {},
          "execution_count": 10
        }
      ]
    },
    {
      "cell_type": "markdown",
      "source": [
        "#execute tensorflow placeholder using session (in tensorflow1 sessions was used)"
      ],
      "metadata": {
        "id": "Hxsy-s77Om1I"
      }
    },
    {
      "cell_type": "code",
      "source": [
        "with tf.compat.v1.Session() as sess:\n",
        "  d=sess.run(c,feed_dict={a:ones_array,b:ones_array}) #data assign to placeholder and function c given\n"
      ],
      "metadata": {
        "id": "6o1eV3C8OtNX"
      },
      "execution_count": 15,
      "outputs": []
    },
    {
      "cell_type": "code",
      "source": [
        "d"
      ],
      "metadata": {
        "colab": {
          "base_uri": "https://localhost:8080/"
        },
        "id": "21wwhagDQLoB",
        "outputId": "810ecbd7-8624-45b2-f7e7-1fc0d7f76ecb"
      },
      "execution_count": 16,
      "outputs": [
        {
          "output_type": "execute_result",
          "data": {
            "text/plain": [
              "array([[2., 2., 2., ..., 2., 2., 2.],\n",
              "       [2., 2., 2., ..., 2., 2., 2.],\n",
              "       [2., 2., 2., ..., 2., 2., 2.],\n",
              "       ...,\n",
              "       [2., 2., 2., ..., 2., 2., 2.],\n",
              "       [2., 2., 2., ..., 2., 2., 2.],\n",
              "       [2., 2., 2., ..., 2., 2., 2.]], dtype=float32)"
            ]
          },
          "metadata": {},
          "execution_count": 16
        }
      ]
    },
    {
      "cell_type": "code",
      "source": [
        "type(d)"
      ],
      "metadata": {
        "colab": {
          "base_uri": "https://localhost:8080/"
        },
        "id": "qd5YrJL_QBoN",
        "outputId": "2e2a499e-d4fd-4396-b42c-1d6e47ef3517"
      },
      "execution_count": 17,
      "outputs": [
        {
          "output_type": "execute_result",
          "data": {
            "text/plain": [
              "numpy.ndarray"
            ]
          },
          "metadata": {},
          "execution_count": 17
        }
      ]
    },
    {
      "cell_type": "code",
      "source": [
        "d_tf=tf.convert_to_tensor(d)\n"
      ],
      "metadata": {
        "id": "F9JOv7L3OW7H"
      },
      "execution_count": 20,
      "outputs": []
    },
    {
      "cell_type": "code",
      "source": [
        "type(d_tf)"
      ],
      "metadata": {
        "colab": {
          "base_uri": "https://localhost:8080/"
        },
        "id": "17jA_5D6Qrkj",
        "outputId": "6736ef20-1a91-4c82-fbd3-d8bf2528835b"
      },
      "execution_count": 21,
      "outputs": [
        {
          "output_type": "execute_result",
          "data": {
            "text/plain": [
              "tensorflow.python.framework.ops.SymbolicTensor"
            ]
          },
          "metadata": {},
          "execution_count": 21
        }
      ]
    }
  ]
}