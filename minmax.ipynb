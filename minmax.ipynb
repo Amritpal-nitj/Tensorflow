{
  "nbformat": 4,
  "nbformat_minor": 0,
  "metadata": {
    "colab": {
      "provenance": [],
      "authorship_tag": "ABX9TyMVkS2uOsJYzExx9kSZ3R4w",
      "include_colab_link": true
    },
    "kernelspec": {
      "name": "python3",
      "display_name": "Python 3"
    },
    "language_info": {
      "name": "python"
    }
  },
  "cells": [
    {
      "cell_type": "markdown",
      "metadata": {
        "id": "view-in-github",
        "colab_type": "text"
      },
      "source": [
        "<a href=\"https://colab.research.google.com/github/Amritpal-nitj/Tensorflow/blob/main/minmax.ipynb\" target=\"_parent\"><img src=\"https://colab.research.google.com/assets/colab-badge.svg\" alt=\"Open In Colab\"/></a>"
      ]
    },
    {
      "cell_type": "markdown",
      "source": [
        "How Get Maximum value from Tensors in\n",
        "TensorFlow?\n",
        "\n",
        "tf.maximum() : Returns the maximum value by comparing of x and y (i.e. x> y ? x : y) element-\n",
        "wise.\n",
        "It work with list, tuple, scaler, Numpy array\n",
        "tf variable/constant/placeholder/SparceMatrix with each other and with scaler and with list/tuple\n",
        "\n",
        "Syntax: tf.maximum(x, y, name=None)\n",
        "\n",
        "Args\n",
        "x=> A Tensor. Must be one of the following types: bfloat16, half, float32,\n",
        "float64, int8, uint8, int16, uint16, int32, uint32, int64, uint64.\n",
        "y=> A Tensor. Must have the same type as x."
      ],
      "metadata": {
        "id": "AW9uODH-We-F"
      }
    },
    {
      "cell_type": "code",
      "source": [
        "import tensorflow as tf\n",
        "import numpy as np"
      ],
      "metadata": {
        "id": "YmtHC3OVWoa9"
      },
      "execution_count": 1,
      "outputs": []
    },
    {
      "cell_type": "code",
      "source": [
        "#get max of scalar\n",
        "x=1\n",
        "y=4\n",
        "tf.maximum(x,y)"
      ],
      "metadata": {
        "colab": {
          "base_uri": "https://localhost:8080/"
        },
        "id": "LdFQ1fKsWvR1",
        "outputId": "d9efc5c9-d782-4c1d-888c-c39316ba2ab4"
      },
      "execution_count": 2,
      "outputs": [
        {
          "output_type": "execute_result",
          "data": {
            "text/plain": [
              "<tf.Tensor: shape=(), dtype=int32, numpy=4>"
            ]
          },
          "metadata": {},
          "execution_count": 2
        }
      ]
    },
    {
      "cell_type": "code",
      "source": [
        "tf.maximum(x,y).numpy()"
      ],
      "metadata": {
        "colab": {
          "base_uri": "https://localhost:8080/"
        },
        "id": "tTLnCUS0XO6T",
        "outputId": "6d31d258-53ec-40be-a364-af0ae341b41a"
      },
      "execution_count": 7,
      "outputs": [
        {
          "output_type": "execute_result",
          "data": {
            "text/plain": [
              "np.int32(4)"
            ]
          },
          "metadata": {},
          "execution_count": 7
        }
      ]
    },
    {
      "cell_type": "code",
      "source": [
        "#for lists\n",
        "l1=[1,2,3,4,5]\n",
        "l2=[2,3,4,5,6]\n",
        "tf.maximum(l1,l2)\n"
      ],
      "metadata": {
        "colab": {
          "base_uri": "https://localhost:8080/"
        },
        "id": "NaXRKdPrXKSU",
        "outputId": "b3ba3ea2-4200-4f3a-c9d4-5f79618db738"
      },
      "execution_count": 8,
      "outputs": [
        {
          "output_type": "execute_result",
          "data": {
            "text/plain": [
              "<tf.Tensor: shape=(5,), dtype=int32, numpy=array([2, 3, 4, 5, 6], dtype=int32)>"
            ]
          },
          "metadata": {},
          "execution_count": 8
        }
      ]
    },
    {
      "cell_type": "code",
      "source": [
        "#for tuple\n",
        "t1=(1,2,3,4,5)\n",
        "t2=(2,3,4,5,6)\n",
        "tf.maximum(t1,t2)"
      ],
      "metadata": {
        "colab": {
          "base_uri": "https://localhost:8080/"
        },
        "id": "tIMLlWzbXzHV",
        "outputId": "d68912c3-5677-4a0b-f16e-d1c9fcdee4db"
      },
      "execution_count": 9,
      "outputs": [
        {
          "output_type": "execute_result",
          "data": {
            "text/plain": [
              "<tf.Tensor: shape=(5,), dtype=int32, numpy=array([2, 3, 4, 5, 6], dtype=int32)>"
            ]
          },
          "metadata": {},
          "execution_count": 9
        }
      ]
    },
    {
      "cell_type": "code",
      "source": [
        "#for tf constants\n",
        "tfc1=tf.constant([1,2,3,4,5])\n",
        "tfc2=tf.constant([2,3,4,5,6])\n",
        "tf.maximum(tfc1,tfc2)"
      ],
      "metadata": {
        "colab": {
          "base_uri": "https://localhost:8080/"
        },
        "id": "iH1SeP48X5z4",
        "outputId": "bee1e47a-14eb-4a9e-a671-ee98d914302c"
      },
      "execution_count": 10,
      "outputs": [
        {
          "output_type": "execute_result",
          "data": {
            "text/plain": [
              "<tf.Tensor: shape=(5,), dtype=int32, numpy=array([2, 3, 4, 5, 6], dtype=int32)>"
            ]
          },
          "metadata": {},
          "execution_count": 10
        }
      ]
    },
    {
      "cell_type": "code",
      "source": [
        "#for tf constants with scalar\n",
        "tfc1=tf.constant([1,2,3,4,5])\n",
        "x=8\n",
        "tf.maximum(tfc1,x)"
      ],
      "metadata": {
        "colab": {
          "base_uri": "https://localhost:8080/"
        },
        "id": "opLV4KTDZOM9",
        "outputId": "685c59b7-782e-4bd8-9f1b-e90518ecdcdb"
      },
      "execution_count": 16,
      "outputs": [
        {
          "output_type": "execute_result",
          "data": {
            "text/plain": [
              "<tf.Tensor: shape=(5,), dtype=int32, numpy=array([8, 8, 8, 8, 8], dtype=int32)>"
            ]
          },
          "metadata": {},
          "execution_count": 16
        }
      ]
    },
    {
      "cell_type": "code",
      "source": [
        "#for tf variables\n",
        "tfv1=tf.Variable([1,2,3,4,5])\n",
        "tfv2=tf.Variable([2,3,4,5,6])\n",
        "tf.maximum(tfv1,tfv2)"
      ],
      "metadata": {
        "colab": {
          "base_uri": "https://localhost:8080/"
        },
        "id": "WFLNo6P6YTNt",
        "outputId": "b3477a1b-dd93-4495-9135-05bbfbbaab7b"
      },
      "execution_count": 11,
      "outputs": [
        {
          "output_type": "execute_result",
          "data": {
            "text/plain": [
              "<tf.Tensor: shape=(5,), dtype=int32, numpy=array([2, 3, 4, 5, 6], dtype=int32)>"
            ]
          },
          "metadata": {},
          "execution_count": 11
        }
      ]
    },
    {
      "cell_type": "code",
      "source": [
        "#for numpy arrays\n",
        "np1=np.array([1,2,3,4,5])\n",
        "np2=np.array([2,3,4,5,6])\n",
        "tf.maximum(np1,np2)"
      ],
      "metadata": {
        "colab": {
          "base_uri": "https://localhost:8080/"
        },
        "id": "8bM5ue68YXS9",
        "outputId": "011bfc71-876a-4a6c-bee5-67200292078b"
      },
      "execution_count": 12,
      "outputs": [
        {
          "output_type": "execute_result",
          "data": {
            "text/plain": [
              "<tf.Tensor: shape=(5,), dtype=int64, numpy=array([2, 3, 4, 5, 6])>"
            ]
          },
          "metadata": {},
          "execution_count": 12
        }
      ]
    },
    {
      "cell_type": "code",
      "source": [
        "#get max value of list/tuple with scalar or single element list\n",
        "l1=[1,2,3,4,10,15]    #not valid for lists of diff size\n",
        "x=8\n",
        "tf.maximum(l1,x)"
      ],
      "metadata": {
        "colab": {
          "base_uri": "https://localhost:8080/"
        },
        "id": "qG-WqFvMYmMz",
        "outputId": "eeb026a1-7a67-4794-f2e1-0e090b2416fe"
      },
      "execution_count": 15,
      "outputs": [
        {
          "output_type": "execute_result",
          "data": {
            "text/plain": [
              "<tf.Tensor: shape=(6,), dtype=int32, numpy=array([ 8,  8,  8,  8, 10, 15], dtype=int32)>"
            ]
          },
          "metadata": {},
          "execution_count": 15
        }
      ]
    },
    {
      "cell_type": "markdown",
      "source": [
        "#How Get Minimum value from Tensors inTensorFlow?\n",
        "\n",
        "tf.minimum() : Returns the minimum value by comparing of x and y (i.e. x>y ? x: y) element-\n",
        "wise.\n",
        "\n",
        "It work with list, tuple, scaler, Numpy array\n",
        "\n",
        "tf variable/constant/placeholder/SparceMatrix with each other and with scaler and with list/tuple\n",
        "\n",
        "Syntax: tf.minimum(x, y, name=None)"
      ],
      "metadata": {
        "id": "sVMe_7F7ZsuM"
      }
    },
    {
      "cell_type": "code",
      "source": [
        "#get min of scalar\n",
        "x=1\n",
        "y=4\n",
        "tf.minimum(x,y)"
      ],
      "metadata": {
        "colab": {
          "base_uri": "https://localhost:8080/"
        },
        "id": "w1ZWgSjiZyFr",
        "outputId": "89cbebc6-4348-4e84-c384-58ad098eee0d"
      },
      "execution_count": 17,
      "outputs": [
        {
          "output_type": "execute_result",
          "data": {
            "text/plain": [
              "<tf.Tensor: shape=(), dtype=int32, numpy=1>"
            ]
          },
          "metadata": {},
          "execution_count": 17
        }
      ]
    },
    {
      "cell_type": "code",
      "source": [
        "#for lists\n",
        "l1=[1,2,3,4,5]\n",
        "l2=[2,3,4,5,6]\n",
        "tf.minimum(l1,l2)\n"
      ],
      "metadata": {
        "colab": {
          "base_uri": "https://localhost:8080/"
        },
        "id": "Cdq1sMIQZ6J4",
        "outputId": "a91ab5c5-555b-49ed-d7f4-ef7b9ff42e34"
      },
      "execution_count": 18,
      "outputs": [
        {
          "output_type": "execute_result",
          "data": {
            "text/plain": [
              "<tf.Tensor: shape=(5,), dtype=int32, numpy=array([1, 2, 3, 4, 5], dtype=int32)>"
            ]
          },
          "metadata": {},
          "execution_count": 18
        }
      ]
    },
    {
      "cell_type": "code",
      "source": [
        "#for tuple\n",
        "t1=(1,2,3,4,5)\n",
        "t2=(2,3,4,5,6)\n",
        "tf.minimum(t1,t2)"
      ],
      "metadata": {
        "colab": {
          "base_uri": "https://localhost:8080/"
        },
        "id": "PstqdHXnZ9Qd",
        "outputId": "912cfd9e-52db-4097-d565-48650039c543"
      },
      "execution_count": 19,
      "outputs": [
        {
          "output_type": "execute_result",
          "data": {
            "text/plain": [
              "<tf.Tensor: shape=(5,), dtype=int32, numpy=array([1, 2, 3, 4, 5], dtype=int32)>"
            ]
          },
          "metadata": {},
          "execution_count": 19
        }
      ]
    },
    {
      "cell_type": "code",
      "source": [
        "#for tf constants\n",
        "tfc1=tf.constant([1,2,3,4,5])\n",
        "tfc2=tf.constant([2,3,4,5,6])\n",
        "tf.minimum(tfc1,tfc2)"
      ],
      "metadata": {
        "colab": {
          "base_uri": "https://localhost:8080/"
        },
        "id": "hOsn6_lLaGH1",
        "outputId": "c12156dd-0d80-41f8-874e-961b1582af52"
      },
      "execution_count": 20,
      "outputs": [
        {
          "output_type": "execute_result",
          "data": {
            "text/plain": [
              "<tf.Tensor: shape=(5,), dtype=int32, numpy=array([1, 2, 3, 4, 5], dtype=int32)>"
            ]
          },
          "metadata": {},
          "execution_count": 20
        }
      ]
    },
    {
      "cell_type": "code",
      "source": [
        "#for tf constants with scalar\n",
        "tfc1=tf.constant([1,2,3,4,5])\n",
        "x=8\n",
        "tf.minimum(tfc1,x)"
      ],
      "metadata": {
        "colab": {
          "base_uri": "https://localhost:8080/"
        },
        "id": "Qra_8IXPaKu0",
        "outputId": "574a77e5-2dcf-4728-d132-f1f7f32b0762"
      },
      "execution_count": 21,
      "outputs": [
        {
          "output_type": "execute_result",
          "data": {
            "text/plain": [
              "<tf.Tensor: shape=(5,), dtype=int32, numpy=array([1, 2, 3, 4, 5], dtype=int32)>"
            ]
          },
          "metadata": {},
          "execution_count": 21
        }
      ]
    },
    {
      "cell_type": "code",
      "source": [
        "#for tf variables\n",
        "tfv1=tf.Variable([1,2,3,4,5])\n",
        "tfv2=tf.Variable([2,3,4,5,6])\n",
        "tf.minimum(tfv1,tfv2)"
      ],
      "metadata": {
        "colab": {
          "base_uri": "https://localhost:8080/"
        },
        "id": "WIsR2ux6aPpg",
        "outputId": "ffa01679-7e72-4fc1-a9e5-02c9b8842d06"
      },
      "execution_count": 22,
      "outputs": [
        {
          "output_type": "execute_result",
          "data": {
            "text/plain": [
              "<tf.Tensor: shape=(5,), dtype=int32, numpy=array([1, 2, 3, 4, 5], dtype=int32)>"
            ]
          },
          "metadata": {},
          "execution_count": 22
        }
      ]
    },
    {
      "cell_type": "code",
      "source": [
        "#for numpy arrays\n",
        "np1=np.array([1,2,3,4,5])\n",
        "np2=np.array([2,3,4,5,6])\n",
        "tf.minimum(np1,np2)"
      ],
      "metadata": {
        "colab": {
          "base_uri": "https://localhost:8080/"
        },
        "id": "9oT5A2R_aUDr",
        "outputId": "56d577fd-3370-48c7-ff9c-d94493000f92"
      },
      "execution_count": 23,
      "outputs": [
        {
          "output_type": "execute_result",
          "data": {
            "text/plain": [
              "<tf.Tensor: shape=(5,), dtype=int64, numpy=array([1, 2, 3, 4, 5])>"
            ]
          },
          "metadata": {},
          "execution_count": 23
        }
      ]
    },
    {
      "cell_type": "code",
      "source": [
        "#get min value of list/tuple with scalar or single element list\n",
        "l1=[1,2,3,4,10,15]    #not valid for lists of diff size\n",
        "x=8\n",
        "tf.minimum(l1,x)"
      ],
      "metadata": {
        "colab": {
          "base_uri": "https://localhost:8080/"
        },
        "id": "Dxn2G0jCaZ-v",
        "outputId": "042cd6c7-7f61-4ecf-81e5-362f4b48543a"
      },
      "execution_count": 24,
      "outputs": [
        {
          "output_type": "execute_result",
          "data": {
            "text/plain": [
              "<tf.Tensor: shape=(6,), dtype=int32, numpy=array([1, 2, 3, 4, 8, 8], dtype=int32)>"
            ]
          },
          "metadata": {},
          "execution_count": 24
        }
      ]
    }
  ]
}