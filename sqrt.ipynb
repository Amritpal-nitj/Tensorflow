{
  "nbformat": 4,
  "nbformat_minor": 0,
  "metadata": {
    "colab": {
      "provenance": [],
      "authorship_tag": "ABX9TyPdbpnvBaXK0zJE+Hn+YU2+",
      "include_colab_link": true
    },
    "kernelspec": {
      "name": "python3",
      "display_name": "Python 3"
    },
    "language_info": {
      "name": "python"
    }
  },
  "cells": [
    {
      "cell_type": "markdown",
      "metadata": {
        "id": "view-in-github",
        "colab_type": "text"
      },
      "source": [
        "<a href=\"https://colab.research.google.com/github/Amritpal-nitj/Tensorflow/blob/main/sqrt.ipynb\" target=\"_parent\"><img src=\"https://colab.research.google.com/assets/colab-badge.svg\" alt=\"Open In Colab\"/></a>"
      ]
    },
    {
      "cell_type": "markdown",
      "source": [
        "How to calculate Square Root of Tensors in\n",
        "TensorFlow?\n",
        "\n",
        "tf.sqrt() : Calculate Element wise suare root of numpy array and TF tensor,\n",
        "It can be give sqrt of list, tuple, scaler\n",
        "It allow tf variable/constant/placeholder/SparceMatrix with Specific datatype\n",
        "\n",
        "Data Type : bfloat16, half, float32, float64, complex64, complex128.\n",
        "\n",
        "Note: Don't give 'int' data type, tf.sqrt() will through error"
      ],
      "metadata": {
        "id": "uAc4yEXaIUNA"
      }
    },
    {
      "cell_type": "code",
      "source": [
        "import numpy as np\n",
        "import tensorflow as tf"
      ],
      "metadata": {
        "id": "XH0qPd67IhUT"
      },
      "execution_count": 2,
      "outputs": []
    },
    {
      "cell_type": "code",
      "source": [
        "#scalar\n",
        "tf.sqrt(9.0)"
      ],
      "metadata": {
        "colab": {
          "base_uri": "https://localhost:8080/"
        },
        "id": "7xJUIxpoIXxE",
        "outputId": "0948fccb-9a60-4523-cd9f-5ae8d1ac5a23"
      },
      "execution_count": 3,
      "outputs": [
        {
          "output_type": "execute_result",
          "data": {
            "text/plain": [
              "<tf.Tensor: shape=(), dtype=float32, numpy=3.0>"
            ]
          },
          "metadata": {},
          "execution_count": 3
        }
      ]
    },
    {
      "cell_type": "code",
      "source": [
        "#sqrt of list\n",
        "l1=[4.0,9.0,6.0]\n",
        "tf.sqrt(l1)"
      ],
      "metadata": {
        "colab": {
          "base_uri": "https://localhost:8080/"
        },
        "id": "sTFywCBjIpj-",
        "outputId": "cfd2b3e1-beb4-433b-b921-d8b62ee3d3c0"
      },
      "execution_count": 4,
      "outputs": [
        {
          "output_type": "execute_result",
          "data": {
            "text/plain": [
              "<tf.Tensor: shape=(3,), dtype=float32, numpy=array([2.       , 3.       , 2.4494898], dtype=float32)>"
            ]
          },
          "metadata": {},
          "execution_count": 4
        }
      ]
    },
    {
      "cell_type": "code",
      "source": [
        "#sqrt of tuple\n",
        "t1=(4.0,16.0,19.0)\n",
        "tf.sqrt(t1)"
      ],
      "metadata": {
        "colab": {
          "base_uri": "https://localhost:8080/"
        },
        "id": "mvJpY-ipJIFt",
        "outputId": "6aee5065-e6c6-4a53-ea33-cc4136d6ae35"
      },
      "execution_count": 5,
      "outputs": [
        {
          "output_type": "execute_result",
          "data": {
            "text/plain": [
              "<tf.Tensor: shape=(3,), dtype=float32, numpy=array([2.      , 4.      , 4.358899], dtype=float32)>"
            ]
          },
          "metadata": {},
          "execution_count": 5
        }
      ]
    },
    {
      "cell_type": "code",
      "source": [
        "#sqrt of numpy array\n",
        "n1=np.array([4,16,78],dtype=np.float64)\n",
        "tf.sqrt(n1)"
      ],
      "metadata": {
        "colab": {
          "base_uri": "https://localhost:8080/"
        },
        "id": "PbP7yTzZJT5M",
        "outputId": "86df3d58-7573-4c40-bc9f-5b593754646f"
      },
      "execution_count": 8,
      "outputs": [
        {
          "output_type": "execute_result",
          "data": {
            "text/plain": [
              "<tf.Tensor: shape=(3,), dtype=float64, numpy=array([2.        , 4.        , 8.83176087])>"
            ]
          },
          "metadata": {},
          "execution_count": 8
        }
      ]
    },
    {
      "cell_type": "code",
      "source": [
        "#\n",
        "y=np.ones(6).reshape(2,1,3,1)*4\n",
        "y"
      ],
      "metadata": {
        "colab": {
          "base_uri": "https://localhost:8080/"
        },
        "id": "VAsUbsjmJiMB",
        "outputId": "2a5b9b85-f8a3-425c-8534-f92921cad7d8"
      },
      "execution_count": 12,
      "outputs": [
        {
          "output_type": "execute_result",
          "data": {
            "text/plain": [
              "array([[[[4.],\n",
              "         [4.],\n",
              "         [4.]]],\n",
              "\n",
              "\n",
              "       [[[4.],\n",
              "         [4.],\n",
              "         [4.]]]])"
            ]
          },
          "metadata": {},
          "execution_count": 12
        }
      ]
    },
    {
      "cell_type": "code",
      "source": [
        "y.dtype"
      ],
      "metadata": {
        "colab": {
          "base_uri": "https://localhost:8080/"
        },
        "id": "nOuthEKGK0Hi",
        "outputId": "fc4bc6fb-8f9b-4bc0-ccbd-77f66cd1a07a"
      },
      "execution_count": 13,
      "outputs": [
        {
          "output_type": "execute_result",
          "data": {
            "text/plain": [
              "dtype('float64')"
            ]
          },
          "metadata": {},
          "execution_count": 13
        }
      ]
    },
    {
      "cell_type": "code",
      "source": [
        "tf.sqrt(y)"
      ],
      "metadata": {
        "colab": {
          "base_uri": "https://localhost:8080/"
        },
        "id": "_TDFCTmoK2rd",
        "outputId": "7eddf520-2980-4ae7-8346-a73838fae373"
      },
      "execution_count": 14,
      "outputs": [
        {
          "output_type": "execute_result",
          "data": {
            "text/plain": [
              "<tf.Tensor: shape=(2, 1, 3, 1), dtype=float64, numpy=\n",
              "array([[[[2.],\n",
              "         [2.],\n",
              "         [2.]]],\n",
              "\n",
              "\n",
              "       [[[2.],\n",
              "         [2.],\n",
              "         [2.]]]])>"
            ]
          },
          "metadata": {},
          "execution_count": 14
        }
      ]
    },
    {
      "cell_type": "markdown",
      "source": [
        "#sqrt of tensor"
      ],
      "metadata": {
        "id": "fP_96WppK9H2"
      }
    },
    {
      "cell_type": "code",
      "source": [
        "tf.sqrt(tf.convert_to_tensor(4,dtype=tf.float32))"
      ],
      "metadata": {
        "colab": {
          "base_uri": "https://localhost:8080/"
        },
        "id": "zTEdjQkiLEff",
        "outputId": "ff7ce4b3-f3e3-4f64-e107-acbd6873e67f"
      },
      "execution_count": 15,
      "outputs": [
        {
          "output_type": "execute_result",
          "data": {
            "text/plain": [
              "<tf.Tensor: shape=(), dtype=float32, numpy=2.0>"
            ]
          },
          "metadata": {},
          "execution_count": 15
        }
      ]
    },
    {
      "cell_type": "code",
      "source": [
        "tf.sqrt(tf.convert_to_tensor([4,9,16,56],dtype=tf.float32))"
      ],
      "metadata": {
        "colab": {
          "base_uri": "https://localhost:8080/"
        },
        "id": "I1iFuzFILOBx",
        "outputId": "12dc416f-c27d-4112-ce08-69f5ba227e60"
      },
      "execution_count": 16,
      "outputs": [
        {
          "output_type": "execute_result",
          "data": {
            "text/plain": [
              "<tf.Tensor: shape=(4,), dtype=float32, numpy=array([2.      , 3.      , 4.      , 7.483315], dtype=float32)>"
            ]
          },
          "metadata": {},
          "execution_count": 16
        }
      ]
    },
    {
      "cell_type": "markdown",
      "source": [
        "sqrt of contsant tensor"
      ],
      "metadata": {
        "id": "KY7exfnZLXTr"
      }
    },
    {
      "cell_type": "code",
      "source": [
        "tfc1=tf.constant([4,9,16,25],dtype=tf.float32)\n",
        "tf.sqrt(tfc1)\n"
      ],
      "metadata": {
        "colab": {
          "base_uri": "https://localhost:8080/"
        },
        "id": "8VE_MlYiK5qM",
        "outputId": "20e9f015-660f-4f59-b4f4-718f8ee1f0aa"
      },
      "execution_count": 17,
      "outputs": [
        {
          "output_type": "execute_result",
          "data": {
            "text/plain": [
              "<tf.Tensor: shape=(4,), dtype=float32, numpy=array([2., 3., 4., 5.], dtype=float32)>"
            ]
          },
          "metadata": {},
          "execution_count": 17
        }
      ]
    },
    {
      "cell_type": "code",
      "source": [
        "#sqrt of variable\n",
        "tfv1=tf.Variable([4,9,16,25],dtype=tf.float32)\n",
        "tf.sqrt(tfv1)"
      ],
      "metadata": {
        "colab": {
          "base_uri": "https://localhost:8080/"
        },
        "id": "qGJfVrOZLfsd",
        "outputId": "3a7417e0-fe28-4010-ee42-0904dc5ecc13"
      },
      "execution_count": 18,
      "outputs": [
        {
          "output_type": "execute_result",
          "data": {
            "text/plain": [
              "<tf.Tensor: shape=(4,), dtype=float32, numpy=array([2., 3., 4., 5.], dtype=float32)>"
            ]
          },
          "metadata": {},
          "execution_count": 18
        }
      ]
    }
  ]
}