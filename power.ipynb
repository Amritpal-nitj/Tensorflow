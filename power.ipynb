{
  "nbformat": 4,
  "nbformat_minor": 0,
  "metadata": {
    "colab": {
      "provenance": [],
      "authorship_tag": "ABX9TyPivuA9ilkwEBVFECPoyPu5",
      "include_colab_link": true
    },
    "kernelspec": {
      "name": "python3",
      "display_name": "Python 3"
    },
    "language_info": {
      "name": "python"
    }
  },
  "cells": [
    {
      "cell_type": "markdown",
      "metadata": {
        "id": "view-in-github",
        "colab_type": "text"
      },
      "source": [
        "<a href=\"https://colab.research.google.com/github/Amritpal-nitj/Tensorflow/blob/main/power.ipynb\" target=\"_parent\"><img src=\"https://colab.research.google.com/assets/colab-badge.svg\" alt=\"Open In Colab\"/></a>"
      ]
    },
    {
      "cell_type": "markdown",
      "source": [
        "How Calculate Power of Tensors in TensorFlow?\n",
        "\n",
        "tf.pow() : Calculate the power of one value to another, Element wise power calculation\n",
        "It can be give power of scaler, Numpy array\n",
        "It allow tf variable/constant/placeholder/SparceMatrix with Specific datatype\n",
        "\n",
        "Data Type : float16, float32, float64, int32, int64, complex64, or complex128.\n",
        "\n",
        "Note: Don't pass data in integer format, it will through error\n",
        "\n",
        "\n",
        "\n",
        "\n",
        "tf.pow(jiska nikalna,kitna power)"
      ],
      "metadata": {
        "id": "7Tf7qKu2MMCR"
      }
    },
    {
      "cell_type": "code",
      "source": [
        "import tensorflow as tf\n",
        "import numpy as np"
      ],
      "metadata": {
        "id": "E3yWEb2rMpW1"
      },
      "execution_count": 3,
      "outputs": []
    },
    {
      "cell_type": "code",
      "source": [
        "#pow of scalar\n",
        "a=4\n",
        "b=2\n",
        "tf.pow(a,b)\n"
      ],
      "metadata": {
        "colab": {
          "base_uri": "https://localhost:8080/"
        },
        "id": "u6UrtM0RM88L",
        "outputId": "c984aeaa-34d7-44fe-885c-ca6345bfb124"
      },
      "execution_count": 2,
      "outputs": [
        {
          "output_type": "execute_result",
          "data": {
            "text/plain": [
              "<tf.Tensor: shape=(), dtype=int32, numpy=16>"
            ]
          },
          "metadata": {},
          "execution_count": 2
        }
      ]
    },
    {
      "cell_type": "code",
      "source": [
        "#power of numpy array\n",
        "na1=np.array([1,2,4],dtype=np.float64)\n",
        "tf.pow(na1,2)"
      ],
      "metadata": {
        "colab": {
          "base_uri": "https://localhost:8080/"
        },
        "id": "1tBYh43iNHqu",
        "outputId": "baa6da0e-b7f1-4143-a7f0-a04931c39e38"
      },
      "execution_count": 4,
      "outputs": [
        {
          "output_type": "execute_result",
          "data": {
            "text/plain": [
              "<tf.Tensor: shape=(3,), dtype=float64, numpy=array([ 1.,  4., 16.])>"
            ]
          },
          "metadata": {},
          "execution_count": 4
        }
      ]
    },
    {
      "cell_type": "code",
      "source": [
        "na1=np.array([2,3,4],dtype=np.float64)\n",
        "na2=np.array([2,4,5],dtype=np.float64)\n",
        "tf.pow(na1,na2)"
      ],
      "metadata": {
        "colab": {
          "base_uri": "https://localhost:8080/"
        },
        "id": "bzptQnALN8la",
        "outputId": "84627e82-d265-4bff-b5cc-284acfaf0f00"
      },
      "execution_count": 5,
      "outputs": [
        {
          "output_type": "execute_result",
          "data": {
            "text/plain": [
              "<tf.Tensor: shape=(3,), dtype=float64, numpy=array([   4.,   81., 1024.])>"
            ]
          },
          "metadata": {},
          "execution_count": 5
        }
      ]
    },
    {
      "cell_type": "code",
      "source": [
        "y=np.ones(6).reshape(2,1,3,1)*4\n",
        "y"
      ],
      "metadata": {
        "colab": {
          "base_uri": "https://localhost:8080/"
        },
        "id": "uhA-lKXmOiBL",
        "outputId": "d7cff5dd-68ef-42d5-d5b3-c9fb86b194aa"
      },
      "execution_count": 7,
      "outputs": [
        {
          "output_type": "execute_result",
          "data": {
            "text/plain": [
              "array([[[[4.],\n",
              "         [4.],\n",
              "         [4.]]],\n",
              "\n",
              "\n",
              "       [[[4.],\n",
              "         [4.],\n",
              "         [4.]]]])"
            ]
          },
          "metadata": {},
          "execution_count": 7
        }
      ]
    },
    {
      "cell_type": "code",
      "source": [
        "tf.pow(y,3)"
      ],
      "metadata": {
        "colab": {
          "base_uri": "https://localhost:8080/"
        },
        "id": "K1PafJFSOxHS",
        "outputId": "d99c9e41-6e44-461b-bc90-601cedad12a3"
      },
      "execution_count": 8,
      "outputs": [
        {
          "output_type": "execute_result",
          "data": {
            "text/plain": [
              "<tf.Tensor: shape=(2, 1, 3, 1), dtype=float64, numpy=\n",
              "array([[[[64.],\n",
              "         [64.],\n",
              "         [64.]]],\n",
              "\n",
              "\n",
              "       [[[64.],\n",
              "         [64.],\n",
              "         [64.]]]])>"
            ]
          },
          "metadata": {},
          "execution_count": 8
        }
      ]
    },
    {
      "cell_type": "code",
      "source": [
        "l1=[2,5,6]\n",
        "l2=[5,2,4]\n",
        "tf.pow(l1,l2)"
      ],
      "metadata": {
        "colab": {
          "base_uri": "https://localhost:8080/"
        },
        "id": "O4iytwt9PCOJ",
        "outputId": "0d80c4e8-415b-4395-b7d7-6b955ec22c53"
      },
      "execution_count": 11,
      "outputs": [
        {
          "output_type": "execute_result",
          "data": {
            "text/plain": [
              "<tf.Tensor: shape=(3,), dtype=int32, numpy=array([  32,   25, 1296], dtype=int32)>"
            ]
          },
          "metadata": {},
          "execution_count": 11
        }
      ]
    },
    {
      "cell_type": "code",
      "source": [
        "#power of tf constant\n",
        "a=tf.constant([1,2,3],dtype=tf.float64)\n",
        "b=tf.constant([2,3,4],dtype=tf.float64)\n",
        "tf.pow(a,b)"
      ],
      "metadata": {
        "colab": {
          "base_uri": "https://localhost:8080/"
        },
        "id": "vYw0JLYXPmMo",
        "outputId": "7b20f658-95d9-4aef-998f-6963952f4fad"
      },
      "execution_count": 12,
      "outputs": [
        {
          "output_type": "execute_result",
          "data": {
            "text/plain": [
              "<tf.Tensor: shape=(3,), dtype=float64, numpy=array([ 1.,  8., 81.])>"
            ]
          },
          "metadata": {},
          "execution_count": 12
        }
      ]
    },
    {
      "cell_type": "code",
      "source": [
        "#power of tf variable\n",
        "c=tf.Variable([1,2,3],dtype=tf.float64)\n",
        "d=tf.Variable([2,3,4],dtype=tf.float64)\n",
        "tf.pow(c,d)"
      ],
      "metadata": {
        "colab": {
          "base_uri": "https://localhost:8080/"
        },
        "id": "la-rdFa3QGIz",
        "outputId": "9b9c86ed-37ad-4753-ff3b-cd1099995440"
      },
      "execution_count": 13,
      "outputs": [
        {
          "output_type": "execute_result",
          "data": {
            "text/plain": [
              "<tf.Tensor: shape=(3,), dtype=float64, numpy=array([ 1.,  8., 81.])>"
            ]
          },
          "metadata": {},
          "execution_count": 13
        }
      ]
    },
    {
      "cell_type": "code",
      "source": [],
      "metadata": {
        "id": "gOh4h9e0QX_F"
      },
      "execution_count": null,
      "outputs": []
    }
  ]
}