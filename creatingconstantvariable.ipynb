{
  "nbformat": 4,
  "nbformat_minor": 0,
  "metadata": {
    "colab": {
      "provenance": [],
      "authorship_tag": "ABX9TyOhK/r7gMkUFwaZM/bh/L8V",
      "include_colab_link": true
    },
    "kernelspec": {
      "name": "python3",
      "display_name": "Python 3"
    },
    "language_info": {
      "name": "python"
    }
  },
  "cells": [
    {
      "cell_type": "markdown",
      "metadata": {
        "id": "view-in-github",
        "colab_type": "text"
      },
      "source": [
        "<a href=\"https://colab.research.google.com/github/Amritpal-nitj/Tensorflow/blob/main/creatingconstantvariable.ipynb\" target=\"_parent\"><img src=\"https://colab.research.google.com/assets/colab-badge.svg\" alt=\"Open In Colab\"/></a>"
      ]
    },
    {
      "cell_type": "markdown",
      "source": [
        "#CREATING CONSTANT VARIABLE IN TENSORFLOW 2.x"
      ],
      "metadata": {
        "id": "vESHeF6JzezE"
      }
    },
    {
      "cell_type": "code",
      "source": [
        "import tensorflow as tf  #importing tensorflow"
      ],
      "metadata": {
        "id": "Zag8TpcXzrq9"
      },
      "execution_count": null,
      "outputs": []
    },
    {
      "cell_type": "code",
      "source": [
        "tf.__version__ #checking version"
      ],
      "metadata": {
        "colab": {
          "base_uri": "https://localhost:8080/",
          "height": 36
        },
        "id": "7oJVgpzH0_nN",
        "outputId": "821bb757-c2fc-4503-de5a-cf39f02be73c"
      },
      "execution_count": null,
      "outputs": [
        {
          "output_type": "execute_result",
          "data": {
            "text/plain": [
              "'2.18.0'"
            ],
            "application/vnd.google.colaboratory.intrinsic+json": {
              "type": "string"
            }
          },
          "metadata": {},
          "execution_count": 2
        }
      ]
    },
    {
      "cell_type": "code",
      "source": [
        "tf.test.is_gpu_available() #checking gpu availability"
      ],
      "metadata": {
        "colab": {
          "base_uri": "https://localhost:8080/"
        },
        "id": "lukO2Kb_1LFr",
        "outputId": "645da79a-dfec-470c-8fdd-e4a5ed15133d"
      },
      "execution_count": null,
      "outputs": [
        {
          "output_type": "stream",
          "name": "stderr",
          "text": [
            "WARNING:tensorflow:From /tmp/ipython-input-3-2572114806.py:1: is_gpu_available (from tensorflow.python.framework.test_util) is deprecated and will be removed in a future version.\n",
            "Instructions for updating:\n",
            "Use `tf.config.list_physical_devices('GPU')` instead.\n"
          ]
        },
        {
          "output_type": "execute_result",
          "data": {
            "text/plain": [
              "False"
            ]
          },
          "metadata": {},
          "execution_count": 3
        }
      ]
    },
    {
      "cell_type": "markdown",
      "source": [
        "\"mostly syntax same as numpy\"\n",
        "\n",
        "\n",
        "Use: While building neural network graph need constant varibale like input data,\n",
        "it never change while training"
      ],
      "metadata": {
        "id": "rSxy3FIJ0Ur3"
      }
    },
    {
      "cell_type": "markdown",
      "source": [
        "Create integer constant"
      ],
      "metadata": {
        "id": "pQeFlzqr1k18"
      }
    },
    {
      "cell_type": "code",
      "source": [
        "constantint=tf.constant(10)\n",
        "constantint"
      ],
      "metadata": {
        "colab": {
          "base_uri": "https://localhost:8080/"
        },
        "id": "ONiAuMfxzwub",
        "outputId": "2cb843cd-cded-4739-853b-73d6503d6a40"
      },
      "execution_count": null,
      "outputs": [
        {
          "output_type": "execute_result",
          "data": {
            "text/plain": [
              "<tf.Tensor: shape=(), dtype=int32, numpy=10>"
            ]
          },
          "metadata": {},
          "execution_count": 6
        }
      ]
    },
    {
      "cell_type": "markdown",
      "source": [
        "create float constant"
      ],
      "metadata": {
        "id": "JnFrGZqz11Tp"
      }
    },
    {
      "cell_type": "code",
      "source": [
        "constantflo=tf.constant(10.2)\n",
        "constantflo"
      ],
      "metadata": {
        "colab": {
          "base_uri": "https://localhost:8080/"
        },
        "id": "ashMDmfh1_qJ",
        "outputId": "ad5138e2-e96b-4a6b-b768-efe6778b7889"
      },
      "execution_count": null,
      "outputs": [
        {
          "output_type": "execute_result",
          "data": {
            "text/plain": [
              "<tf.Tensor: shape=(), dtype=float32, numpy=10.199999809265137>"
            ]
          },
          "metadata": {},
          "execution_count": 7
        }
      ]
    },
    {
      "cell_type": "markdown",
      "source": [
        "create string constant"
      ],
      "metadata": {
        "id": "InEuxDQt2Fmu"
      }
    },
    {
      "cell_type": "code",
      "source": [
        "constantstr=tf.constant(\"Punjab\")\n",
        "constantstr"
      ],
      "metadata": {
        "colab": {
          "base_uri": "https://localhost:8080/"
        },
        "id": "vCNmGxBO2Kgu",
        "outputId": "ed22ea73-e259-468f-e4fe-419da7c7fd48"
      },
      "execution_count": null,
      "outputs": [
        {
          "output_type": "execute_result",
          "data": {
            "text/plain": [
              "<tf.Tensor: shape=(), dtype=string, numpy=b'Punjab'>"
            ]
          },
          "metadata": {},
          "execution_count": 9
        }
      ]
    },
    {
      "cell_type": "markdown",
      "source": [
        "create bool constant"
      ],
      "metadata": {
        "id": "EQ_Fioh72V8u"
      }
    },
    {
      "cell_type": "code",
      "source": [
        "constantbool=tf.constant(True)\n",
        "constantbool"
      ],
      "metadata": {
        "colab": {
          "base_uri": "https://localhost:8080/"
        },
        "id": "mLBGLwLe2Y-3",
        "outputId": "8614f0f3-b9ea-43fc-9b2b-719d16a2960b"
      },
      "execution_count": null,
      "outputs": [
        {
          "output_type": "execute_result",
          "data": {
            "text/plain": [
              "<tf.Tensor: shape=(), dtype=bool, numpy=True>"
            ]
          },
          "metadata": {},
          "execution_count": 10
        }
      ]
    },
    {
      "cell_type": "markdown",
      "source": [
        "Create constant numpy array/list/tuple"
      ],
      "metadata": {
        "id": "gWFStOXq2kx9"
      }
    },
    {
      "cell_type": "code",
      "source": [
        "import numpy as np"
      ],
      "metadata": {
        "id": "ZwHDCf7k2lg_"
      },
      "execution_count": null,
      "outputs": []
    },
    {
      "cell_type": "code",
      "source": [
        "np_array=tf.constant(np.array([1,2,3,4]))\n",
        "np_array"
      ],
      "metadata": {
        "colab": {
          "base_uri": "https://localhost:8080/"
        },
        "id": "acFb8M-P2oTL",
        "outputId": "e601451f-881a-4064-b73f-7500bdf0155e"
      },
      "execution_count": null,
      "outputs": [
        {
          "output_type": "execute_result",
          "data": {
            "text/plain": [
              "<tf.Tensor: shape=(4,), dtype=int64, numpy=array([1, 2, 3, 4])>"
            ]
          },
          "metadata": {},
          "execution_count": 12
        }
      ]
    },
    {
      "cell_type": "code",
      "source": [
        "#create 1d  constant\n",
        "t_1d=tf.constant([1,2,3,4])\n",
        "t_1d\n"
      ],
      "metadata": {
        "colab": {
          "base_uri": "https://localhost:8080/"
        },
        "id": "Fx1CADxK3WG2",
        "outputId": "0fd5b7f8-dff4-4e0b-9b18-ca1986729e91"
      },
      "execution_count": null,
      "outputs": [
        {
          "output_type": "execute_result",
          "data": {
            "text/plain": [
              "<tf.Tensor: shape=(4,), dtype=int32, numpy=array([1, 2, 3, 4], dtype=int32)>"
            ]
          },
          "metadata": {},
          "execution_count": 14
        }
      ]
    },
    {
      "cell_type": "code",
      "source": [
        "#create 2d  constant\n",
        "t_2d=tf.constant([[1,2,4],[4,5,6]])\n",
        "t_2d"
      ],
      "metadata": {
        "colab": {
          "base_uri": "https://localhost:8080/"
        },
        "id": "iAcEzLhi4GJl",
        "outputId": "7f670a65-5b25-42c6-dd51-629f5670eec1"
      },
      "execution_count": null,
      "outputs": [
        {
          "output_type": "execute_result",
          "data": {
            "text/plain": [
              "<tf.Tensor: shape=(2, 3), dtype=int32, numpy=\n",
              "array([[1, 2, 4],\n",
              "       [4, 5, 6]], dtype=int32)>"
            ]
          },
          "metadata": {},
          "execution_count": 20
        }
      ]
    },
    {
      "cell_type": "markdown",
      "source": [
        "creating 2 d array constant with single list"
      ],
      "metadata": {
        "id": "RuduOVoT5aBx"
      }
    },
    {
      "cell_type": "code",
      "source": [
        "t_2d=tf.constant([1,2,3,4],shape=(2,2))  #2 row 2 column\n",
        "t_2d"
      ],
      "metadata": {
        "colab": {
          "base_uri": "https://localhost:8080/"
        },
        "id": "6kSEgt7o5f96",
        "outputId": "6d4c9bcd-76af-4eef-f4e5-a9f479600747"
      },
      "execution_count": null,
      "outputs": [
        {
          "output_type": "execute_result",
          "data": {
            "text/plain": [
              "<tf.Tensor: shape=(2, 2), dtype=int32, numpy=\n",
              "array([[1, 2],\n",
              "       [3, 4]], dtype=int32)>"
            ]
          },
          "metadata": {},
          "execution_count": 21
        }
      ]
    },
    {
      "cell_type": "code",
      "source": [
        "#create Nd  constant\n",
        "t_3d=tf.constant([[[1,2,4],[4,5,6],[5,6,9]]])     shape indiacate  1 ,3 unit,3element\n",
        "t_3d"
      ],
      "metadata": {
        "colab": {
          "base_uri": "https://localhost:8080/"
        },
        "id": "2hxQxvtG4yY1",
        "outputId": "4c38dc0d-62cb-45ce-c7d1-a3ffa5886d45"
      },
      "execution_count": null,
      "outputs": [
        {
          "output_type": "execute_result",
          "data": {
            "text/plain": [
              "<tf.Tensor: shape=(1, 3, 3), dtype=int32, numpy=\n",
              "array([[[1, 2, 4],\n",
              "        [4, 5, 6],\n",
              "        [5, 6, 9]]], dtype=int32)>"
            ]
          },
          "metadata": {},
          "execution_count": 22
        }
      ]
    },
    {
      "cell_type": "code",
      "source": [
        "type(t_3d)"
      ],
      "metadata": {
        "colab": {
          "base_uri": "https://localhost:8080/"
        },
        "id": "b2GODLzi3ZI2",
        "outputId": "a2613273-79d3-415b-940c-78be1879a928"
      },
      "execution_count": null,
      "outputs": [
        {
          "output_type": "execute_result",
          "data": {
            "text/plain": [
              "tensorflow.python.framework.ops.EagerTensor"
            ]
          },
          "metadata": {},
          "execution_count": 23
        }
      ]
    },
    {
      "cell_type": "code",
      "source": [
        "t_3d.shape"
      ],
      "metadata": {
        "colab": {
          "base_uri": "https://localhost:8080/"
        },
        "id": "CPFcdqzw6lfk",
        "outputId": "d172aedd-5479-4ae0-8f84-aa14d0a8f4a1"
      },
      "execution_count": null,
      "outputs": [
        {
          "output_type": "execute_result",
          "data": {
            "text/plain": [
              "TensorShape([1, 3, 3])"
            ]
          },
          "metadata": {},
          "execution_count": 26
        }
      ]
    },
    {
      "cell_type": "markdown",
      "source": [
        "#Access constant value"
      ],
      "metadata": {
        "id": "fhDiEkZ46-Yz"
      }
    },
    {
      "cell_type": "code",
      "source": [
        "t_2d.numpy()\n",
        "\n"
      ],
      "metadata": {
        "colab": {
          "base_uri": "https://localhost:8080/"
        },
        "id": "LsZt-Pjf7GIb",
        "outputId": "9d2f7de1-bbb3-4e81-807d-4a86cf3e7a92"
      },
      "execution_count": null,
      "outputs": [
        {
          "output_type": "execute_result",
          "data": {
            "text/plain": [
              "array([[1, 2],\n",
              "       [3, 4]], dtype=int32)"
            ]
          },
          "metadata": {},
          "execution_count": 27
        }
      ]
    },
    {
      "cell_type": "code",
      "source": [
        "t_2d.numpy()[0,1]"
      ],
      "metadata": {
        "colab": {
          "base_uri": "https://localhost:8080/"
        },
        "id": "BtndySOE7PCG",
        "outputId": "2f4464f2-8dba-4d54-bbfa-0a8ed1107e73"
      },
      "execution_count": null,
      "outputs": [
        {
          "output_type": "execute_result",
          "data": {
            "text/plain": [
              "np.int32(2)"
            ]
          },
          "metadata": {},
          "execution_count": 31
        }
      ]
    },
    {
      "cell_type": "code",
      "source": [
        "t_2d.dtype"
      ],
      "metadata": {
        "id": "QHK_ffvf8LFM",
        "outputId": "7ef9bc72-c054-4d1e-cff6-bf29cfec1532",
        "colab": {
          "base_uri": "https://localhost:8080/"
        }
      },
      "execution_count": null,
      "outputs": [
        {
          "output_type": "execute_result",
          "data": {
            "text/plain": [
              "tf.int32"
            ]
          },
          "metadata": {},
          "execution_count": 32
        }
      ]
    }
  ]
}