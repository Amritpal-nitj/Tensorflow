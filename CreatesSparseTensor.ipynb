{
  "nbformat": 4,
  "nbformat_minor": 0,
  "metadata": {
    "colab": {
      "provenance": [],
      "authorship_tag": "ABX9TyPbYO5UTJXyO/Je1stuUcxd",
      "include_colab_link": true
    },
    "kernelspec": {
      "name": "python3",
      "display_name": "Python 3"
    },
    "language_info": {
      "name": "python"
    }
  },
  "cells": [
    {
      "cell_type": "markdown",
      "metadata": {
        "id": "view-in-github",
        "colab_type": "text"
      },
      "source": [
        "<a href=\"https://colab.research.google.com/github/Amritpal-nitj/Tensorflow/blob/main/CreatesSparseTensor.ipynb\" target=\"_parent\"><img src=\"https://colab.research.google.com/assets/colab-badge.svg\" alt=\"Open In Colab\"/></a>"
      ]
    },
    {
      "cell_type": "code",
      "execution_count": null,
      "metadata": {
        "id": "9BR7ToYDMcLe"
      },
      "outputs": [],
      "source": []
    },
    {
      "cell_type": "markdown",
      "source": [
        "#HOW TO CREATE SPARSE TENSOR IN TENSORFLOW2\n",
        "max values 0 ,enable effiecient storage"
      ],
      "metadata": {
        "id": "ZGGYwvfaMdcf"
      }
    },
    {
      "cell_type": "markdown",
      "source": [
        "*Tensor that contain mostly zero values are called sparse tensor .*\n",
        "\n",
        "When working with tensors that contain a lot of zero values, it is important to store them in a space-\n",
        "and time-efficient manner.\n",
        "Sparse tensors enable efficient storage and processing of tensors that contain a lot of zero values.\n",
        "Sparse tensors are used extensively in encoding schemes like TF-IDF as part of data pre-processing in\n",
        "NLP applications and for pre-processing images with a lot of dark pixels in computer vision\n",
        "applications.\n",
        "\n",
        "\n",
        "Currently, sparse tensors in TensorFlow are encoded using the coordinate list (C0O)] format.\n",
        "\n",
        "The C00 encoding for sparse tensors is comprised of:\n",
        "\n",
        "values: A 1D tensor with shape [N] containing all nonzero values.\n",
        "\n",
        "indices: A 2D tensor with shape [N, rank], containing the indices of the nonzero values.\n",
        "\n",
        "dense_shape: A 1D tensor with shape [rank], specifying the shape of the tensor.\n",
        "\n",
        "A nonzero value in the context of a tf.SparseTensor is a value that's not explicitly encoded."
      ],
      "metadata": {
        "id": "mcRnxd38NHMw"
      }
    },
    {
      "cell_type": "markdown",
      "source": [
        "CREATE TENSORFLOW SPARSE TENSOR"
      ],
      "metadata": {
        "id": "bXCRHxnBQyMu"
      }
    },
    {
      "cell_type": "code",
      "source": [
        "import tensorflow as tf"
      ],
      "metadata": {
        "id": "B2tenYkpN3ew"
      },
      "execution_count": 1,
      "outputs": []
    },
    {
      "cell_type": "code",
      "source": [
        "st1=tf.SparseTensor(indices=[[0,3],[2,4]],values=[10,20],dense_shape=[3,10])\n",
        "st1"
      ],
      "metadata": {
        "colab": {
          "base_uri": "https://localhost:8080/"
        },
        "id": "CgKwbC1yN_tO",
        "outputId": "42a84089-e58a-43a6-933b-f3b76a406165"
      },
      "execution_count": 2,
      "outputs": [
        {
          "output_type": "execute_result",
          "data": {
            "text/plain": [
              "SparseTensor(indices=tf.Tensor(\n",
              "[[0 3]\n",
              " [2 4]], shape=(2, 2), dtype=int64), values=tf.Tensor([10 20], shape=(2,), dtype=int32), dense_shape=tf.Tensor([ 3 10], shape=(2,), dtype=int64))"
            ]
          },
          "metadata": {},
          "execution_count": 2
        }
      ]
    },
    {
      "cell_type": "code",
      "source": [
        "print(st1)"
      ],
      "metadata": {
        "colab": {
          "base_uri": "https://localhost:8080/"
        },
        "id": "v55N3lLVOqNa",
        "outputId": "5eb1dc51-dfc5-4ed0-a7ee-6dddb23b02e5"
      },
      "execution_count": 3,
      "outputs": [
        {
          "output_type": "stream",
          "name": "stdout",
          "text": [
            "SparseTensor(indices=tf.Tensor(\n",
            "[[0 3]\n",
            " [2 4]], shape=(2, 2), dtype=int64), values=tf.Tensor([10 20], shape=(2,), dtype=int32), dense_shape=tf.Tensor([ 3 10], shape=(2,), dtype=int64))\n"
          ]
        }
      ]
    },
    {
      "cell_type": "markdown",
      "source": [
        "CREATING SPARSE TENSOR FROM DENSE"
      ],
      "metadata": {
        "id": "Xeacf6TcPwbB"
      }
    },
    {
      "cell_type": "code",
      "source": [
        "import numpy as np\n",
        "np_array=np.array([[1,0,0,0],\n",
        "                   [0,0,0,0],\n",
        "                   [0,0,2,0],\n",
        "                   [0,0,0,4] ])\n",
        "np_array"
      ],
      "metadata": {
        "colab": {
          "base_uri": "https://localhost:8080/"
        },
        "id": "R5FsS-seSMNS",
        "outputId": "775a1eaf-5c6a-4a83-bc75-a9b6435c4c7d"
      },
      "execution_count": 6,
      "outputs": [
        {
          "output_type": "execute_result",
          "data": {
            "text/plain": [
              "array([[1, 0, 0, 0],\n",
              "       [0, 0, 0, 0],\n",
              "       [0, 0, 2, 0],\n",
              "       [0, 0, 0, 4]])"
            ]
          },
          "metadata": {},
          "execution_count": 6
        }
      ]
    },
    {
      "cell_type": "code",
      "source": [
        "st2_fd=tf.sparse.from_dense(np_array)\n",
        "st2_fd"
      ],
      "metadata": {
        "colab": {
          "base_uri": "https://localhost:8080/"
        },
        "id": "mLVw0w-4S9En",
        "outputId": "636a3a91-69bb-4090-f736-403e72aa2af7"
      },
      "execution_count": 7,
      "outputs": [
        {
          "output_type": "execute_result",
          "data": {
            "text/plain": [
              "SparseTensor(indices=tf.Tensor(\n",
              "[[0 0]\n",
              " [2 2]\n",
              " [3 3]], shape=(3, 2), dtype=int64), values=tf.Tensor([1 2 4], shape=(3,), dtype=int64), dense_shape=tf.Tensor([4 4], shape=(2,), dtype=int64))"
            ]
          },
          "metadata": {},
          "execution_count": 7
        }
      ]
    },
    {
      "cell_type": "markdown",
      "source": [
        "Extract indices,values,dense_shape of SparseTensor"
      ],
      "metadata": {
        "id": "1n1ca9g6TQyI"
      }
    },
    {
      "cell_type": "code",
      "source": [
        "st1.indices.numpy().tolist()"
      ],
      "metadata": {
        "colab": {
          "base_uri": "https://localhost:8080/"
        },
        "id": "k5ETdRMrTbJi",
        "outputId": "8b163ed0-61fd-4d1c-f957-a743f8b2f3f0"
      },
      "execution_count": 8,
      "outputs": [
        {
          "output_type": "execute_result",
          "data": {
            "text/plain": [
              "[[0, 3], [2, 4]]"
            ]
          },
          "metadata": {},
          "execution_count": 8
        }
      ]
    },
    {
      "cell_type": "code",
      "source": [
        "st1.values.numpy().tolist()"
      ],
      "metadata": {
        "colab": {
          "base_uri": "https://localhost:8080/"
        },
        "id": "ooWXkn8aTohX",
        "outputId": "e7774621-2fd8-4cbc-b523-125dc018fad4"
      },
      "execution_count": 9,
      "outputs": [
        {
          "output_type": "execute_result",
          "data": {
            "text/plain": [
              "[10, 20]"
            ]
          },
          "metadata": {},
          "execution_count": 9
        }
      ]
    },
    {
      "cell_type": "code",
      "source": [
        "st1.dense_shape.numpy().tolist()"
      ],
      "metadata": {
        "colab": {
          "base_uri": "https://localhost:8080/"
        },
        "id": "J-9L7nK9Tr4h",
        "outputId": "48271983-c2df-4b0e-a310-d37ac0fa97ec"
      },
      "execution_count": 10,
      "outputs": [
        {
          "output_type": "execute_result",
          "data": {
            "text/plain": [
              "[3, 10]"
            ]
          },
          "metadata": {},
          "execution_count": 10
        }
      ]
    },
    {
      "cell_type": "markdown",
      "source": [
        "FROM SPARSETENSOR TO DENSE"
      ],
      "metadata": {
        "id": "8WZ5qUhkUqSD"
      }
    },
    {
      "cell_type": "code",
      "source": [
        "st2_td=tf.sparse.to_dense(st2_fd)\n",
        "st2_td"
      ],
      "metadata": {
        "colab": {
          "base_uri": "https://localhost:8080/"
        },
        "id": "AKoK4OJaUtvj",
        "outputId": "851df5ac-4eff-4648-abb9-e5014c4b89d7"
      },
      "execution_count": 12,
      "outputs": [
        {
          "output_type": "execute_result",
          "data": {
            "text/plain": [
              "<tf.Tensor: shape=(4, 4), dtype=int64, numpy=\n",
              "array([[1, 0, 0, 0],\n",
              "       [0, 0, 0, 0],\n",
              "       [0, 0, 2, 0],\n",
              "       [0, 0, 0, 4]])>"
            ]
          },
          "metadata": {},
          "execution_count": 12
        }
      ]
    },
    {
      "cell_type": "code",
      "source": [
        "#convert dense tensor to numpy\n",
        "st2_td.numpy()"
      ],
      "metadata": {
        "colab": {
          "base_uri": "https://localhost:8080/"
        },
        "id": "EUHdeyodVNzo",
        "outputId": "3f77537f-4d38-4a67-cfbe-d784e7c6d4c6"
      },
      "execution_count": 13,
      "outputs": [
        {
          "output_type": "execute_result",
          "data": {
            "text/plain": [
              "array([[1, 0, 0, 0],\n",
              "       [0, 0, 0, 0],\n",
              "       [0, 0, 2, 0],\n",
              "       [0, 0, 0, 4]])"
            ]
          },
          "metadata": {},
          "execution_count": 13
        }
      ]
    },
    {
      "cell_type": "markdown",
      "source": [
        "#mathematical operation of sparse tensor\n",
        "because sparse tensor will take less time"
      ],
      "metadata": {
        "id": "pE2WonrZVt3H"
      }
    },
    {
      "cell_type": "code",
      "source": [
        "tf_add=tf.sparse.add(st1,st1)\n",
        "tf_add"
      ],
      "metadata": {
        "colab": {
          "base_uri": "https://localhost:8080/"
        },
        "id": "BJHfjUv5Vykl",
        "outputId": "16b692aa-0f63-4775-f0e5-ef40bf045421"
      },
      "execution_count": 14,
      "outputs": [
        {
          "output_type": "execute_result",
          "data": {
            "text/plain": [
              "SparseTensor(indices=tf.Tensor(\n",
              "[[0 3]\n",
              " [2 4]], shape=(2, 2), dtype=int64), values=tf.Tensor([20 40], shape=(2,), dtype=int32), dense_shape=tf.Tensor([ 3 10], shape=(2,), dtype=int64))"
            ]
          },
          "metadata": {},
          "execution_count": 14
        }
      ]
    },
    {
      "cell_type": "code",
      "source": [
        "#now we can also covert it into dense\n",
        "tf_add_td=tf.sparse.to_dense(tf_add)\n",
        "tf_add_td"
      ],
      "metadata": {
        "colab": {
          "base_uri": "https://localhost:8080/"
        },
        "id": "_Z8yiuHiWSJV",
        "outputId": "0da79bf6-e627-47e7-e018-4238ea59b200"
      },
      "execution_count": 15,
      "outputs": [
        {
          "output_type": "execute_result",
          "data": {
            "text/plain": [
              "<tf.Tensor: shape=(3, 10), dtype=int32, numpy=\n",
              "array([[ 0,  0,  0, 20,  0,  0,  0,  0,  0,  0],\n",
              "       [ 0,  0,  0,  0,  0,  0,  0,  0,  0,  0],\n",
              "       [ 0,  0,  0,  0, 40,  0,  0,  0,  0,  0]], dtype=int32)>"
            ]
          },
          "metadata": {},
          "execution_count": 15
        }
      ]
    }
  ]
}