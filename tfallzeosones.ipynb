{
  "nbformat": 4,
  "nbformat_minor": 0,
  "metadata": {
    "colab": {
      "provenance": [],
      "authorship_tag": "ABX9TyN6qX8npSD0pn//7RMuDTrD",
      "include_colab_link": true
    },
    "kernelspec": {
      "name": "python3",
      "display_name": "Python 3"
    },
    "language_info": {
      "name": "python"
    }
  },
  "cells": [
    {
      "cell_type": "markdown",
      "metadata": {
        "id": "view-in-github",
        "colab_type": "text"
      },
      "source": [
        "<a href=\"https://colab.research.google.com/github/Amritpal-nitj/Tensorflow/blob/main/tfallzeosones.ipynb\" target=\"_parent\"><img src=\"https://colab.research.google.com/assets/colab-badge.svg\" alt=\"Open In Colab\"/></a>"
      ]
    },
    {
      "cell_type": "markdown",
      "source": [
        "#tf.ones()\n",
        "create a tensor with all elements set to 1"
      ],
      "metadata": {
        "id": "iRo8ZoO__LY_"
      }
    },
    {
      "cell_type": "code",
      "source": [
        "import tensorflow as tf\n",
        "tf_ones=tf.ones(shape=(2,2))\n",
        "tf_ones"
      ],
      "metadata": {
        "colab": {
          "base_uri": "https://localhost:8080/"
        },
        "id": "c3n-ZNed_P8p",
        "outputId": "004a4b35-e78c-4710-f558-1efd195c3673"
      },
      "execution_count": 2,
      "outputs": [
        {
          "output_type": "execute_result",
          "data": {
            "text/plain": [
              "<tf.Tensor: shape=(2, 2), dtype=float32, numpy=\n",
              "array([[1., 1.],\n",
              "       [1., 1.]], dtype=float32)>"
            ]
          },
          "metadata": {},
          "execution_count": 2
        }
      ]
    },
    {
      "cell_type": "code",
      "source": [
        "tf_ones=tf.ones(shape=(2,4,3))  #3d means last3  means 3 one hoge , unke 4 unit and un4 unit ke 2 unit\n",
        "tf_ones"
      ],
      "metadata": {
        "colab": {
          "base_uri": "https://localhost:8080/"
        },
        "id": "FwbmX9ru_mOX",
        "outputId": "9b1a183d-8939-4058-95af-28dd08cd703f"
      },
      "execution_count": 3,
      "outputs": [
        {
          "output_type": "execute_result",
          "data": {
            "text/plain": [
              "<tf.Tensor: shape=(2, 4, 3), dtype=float32, numpy=\n",
              "array([[[1., 1., 1.],\n",
              "        [1., 1., 1.],\n",
              "        [1., 1., 1.],\n",
              "        [1., 1., 1.]],\n",
              "\n",
              "       [[1., 1., 1.],\n",
              "        [1., 1., 1.],\n",
              "        [1., 1., 1.],\n",
              "        [1., 1., 1.]]], dtype=float32)>"
            ]
          },
          "metadata": {},
          "execution_count": 3
        }
      ]
    },
    {
      "cell_type": "markdown",
      "source": [
        "#tf.ones_like()\n",
        "create a tensor of all ones which has shape  same as input"
      ],
      "metadata": {
        "id": "PrE3YEo_AJmY"
      }
    },
    {
      "cell_type": "code",
      "source": [
        "cont_2td=tf.constant([[1,2,3],[4,6,5]])\n",
        "cont_2td"
      ],
      "metadata": {
        "colab": {
          "base_uri": "https://localhost:8080/"
        },
        "id": "gM-vBdxDBOB9",
        "outputId": "0df6624f-7796-4cb7-e08c-ef819b0ce778"
      },
      "execution_count": 4,
      "outputs": [
        {
          "output_type": "execute_result",
          "data": {
            "text/plain": [
              "<tf.Tensor: shape=(2, 3), dtype=int32, numpy=\n",
              "array([[1, 2, 3],\n",
              "       [4, 6, 5]], dtype=int32)>"
            ]
          },
          "metadata": {},
          "execution_count": 4
        }
      ]
    },
    {
      "cell_type": "code",
      "source": [
        "tf_ones_like=tf.ones_like(cont_2td)\n",
        "tf_ones_like"
      ],
      "metadata": {
        "colab": {
          "base_uri": "https://localhost:8080/"
        },
        "id": "6cWQkyhcBt7q",
        "outputId": "46a02dcb-7bd5-4d26-b2fb-4f6ce7171333"
      },
      "execution_count": 5,
      "outputs": [
        {
          "output_type": "execute_result",
          "data": {
            "text/plain": [
              "<tf.Tensor: shape=(2, 3), dtype=int32, numpy=\n",
              "array([[1, 1, 1],\n",
              "       [1, 1, 1]], dtype=int32)>"
            ]
          },
          "metadata": {},
          "execution_count": 5
        }
      ]
    },
    {
      "cell_type": "code",
      "source": [
        "var_2td=tf.Variable([[1,2,3],[4,6,5]])\n",
        "var_2td"
      ],
      "metadata": {
        "colab": {
          "base_uri": "https://localhost:8080/"
        },
        "id": "e8KothUrCCra",
        "outputId": "07392402-583e-424a-b809-29ebb4d2a0b5"
      },
      "execution_count": 7,
      "outputs": [
        {
          "output_type": "execute_result",
          "data": {
            "text/plain": [
              "<tf.Variable 'Variable:0' shape=(2, 3) dtype=int32, numpy=\n",
              "array([[1, 2, 3],\n",
              "       [4, 6, 5]], dtype=int32)>"
            ]
          },
          "metadata": {},
          "execution_count": 7
        }
      ]
    },
    {
      "cell_type": "code",
      "source": [
        "tf_ones_like=tf.ones_like(var_2td)\n",
        "tf_ones_like"
      ],
      "metadata": {
        "colab": {
          "base_uri": "https://localhost:8080/"
        },
        "id": "eoN5InLyCQuV",
        "outputId": "87688eab-4d89-4bf1-ba50-ef61131489a0"
      },
      "execution_count": 8,
      "outputs": [
        {
          "output_type": "execute_result",
          "data": {
            "text/plain": [
              "<tf.Tensor: shape=(2, 3), dtype=int32, numpy=\n",
              "array([[1, 1, 1],\n",
              "       [1, 1, 1]], dtype=int32)>"
            ]
          },
          "metadata": {},
          "execution_count": 8
        }
      ]
    },
    {
      "cell_type": "markdown",
      "source": [
        "#tf.ones_initializer()\n",
        "Initializer that generates tensors initialized to 1.\n",
        "\n",
        "Initializers allow you to pre-specify an initialization strategy, encoded in the Initializer object, without knowing the shape and\n",
        "dtype of the variable being initialized. *(dtype and shape pta hone se phle hi tensor ko all ones initialize krr skte hai)*"
      ],
      "metadata": {
        "id": "AHDNkLueB2MF"
      }
    },
    {
      "cell_type": "code",
      "source": [
        "def ones_variable(shape,dtype,initializer):\n",
        "  return tf.Variable(initializer(shape=shape,dtype=dtype))"
      ],
      "metadata": {
        "id": "sxBpomhhDEbI"
      },
      "execution_count": 9,
      "outputs": []
    },
    {
      "cell_type": "code",
      "source": [
        "ones_variable(shape=(2,2),dtype=tf.float32,initializer=tf.ones_initializer())"
      ],
      "metadata": {
        "colab": {
          "base_uri": "https://localhost:8080/"
        },
        "id": "oY-V9U66D4EV",
        "outputId": "aeeeba99-c3ce-4558-dce8-739877c0f4e9"
      },
      "execution_count": 11,
      "outputs": [
        {
          "output_type": "execute_result",
          "data": {
            "text/plain": [
              "<tf.Variable 'Variable:0' shape=(2, 2) dtype=float32, numpy=\n",
              "array([[1., 1.],\n",
              "       [1., 1.]], dtype=float32)>"
            ]
          },
          "metadata": {},
          "execution_count": 11
        }
      ]
    },
    {
      "cell_type": "markdown",
      "source": [
        "#tf.zeros()"
      ],
      "metadata": {
        "id": "JSBEIpHrZPrs"
      }
    },
    {
      "cell_type": "code",
      "source": [
        "import tensorflow as tf\n",
        "tf_zeros=tf.zeros(shape=(2,2))\n",
        "tf_zeros"
      ],
      "metadata": {
        "colab": {
          "base_uri": "https://localhost:8080/"
        },
        "id": "_GjdsowrZTRq",
        "outputId": "673791a2-454b-4052-8fd1-9bc34ad01a62"
      },
      "execution_count": 2,
      "outputs": [
        {
          "output_type": "execute_result",
          "data": {
            "text/plain": [
              "<tf.Tensor: shape=(2, 2), dtype=float32, numpy=\n",
              "array([[0., 0.],\n",
              "       [0., 0.]], dtype=float32)>"
            ]
          },
          "metadata": {},
          "execution_count": 2
        }
      ]
    },
    {
      "cell_type": "code",
      "source": [
        "tf_zeros=tf.zeros(shape=(2,4,3))  #3d means last3  means 3 one hoge , unke 4 unit and un4 unit ke 2 unit\n",
        "tf_zeros"
      ],
      "metadata": {
        "colab": {
          "base_uri": "https://localhost:8080/"
        },
        "id": "J9-ugpk8ZnLX",
        "outputId": "081f1683-c580-4af4-b6d4-c1e6703af541"
      },
      "execution_count": 3,
      "outputs": [
        {
          "output_type": "execute_result",
          "data": {
            "text/plain": [
              "<tf.Tensor: shape=(2, 4, 3), dtype=float32, numpy=\n",
              "array([[[0., 0., 0.],\n",
              "        [0., 0., 0.],\n",
              "        [0., 0., 0.],\n",
              "        [0., 0., 0.]],\n",
              "\n",
              "       [[0., 0., 0.],\n",
              "        [0., 0., 0.],\n",
              "        [0., 0., 0.],\n",
              "        [0., 0., 0.]]], dtype=float32)>"
            ]
          },
          "metadata": {},
          "execution_count": 3
        }
      ]
    },
    {
      "cell_type": "markdown",
      "source": [
        "#tf.zeros_like()"
      ],
      "metadata": {
        "id": "JLCnberHZw_1"
      }
    },
    {
      "cell_type": "code",
      "source": [
        "cont_2td=tf.constant([[1,2,3],[4,6,5]])\n",
        "cont_2td"
      ],
      "metadata": {
        "colab": {
          "base_uri": "https://localhost:8080/"
        },
        "id": "wYvt-hRMZ3nj",
        "outputId": "d995a324-f61e-480c-bd45-e0db5e786241"
      },
      "execution_count": 4,
      "outputs": [
        {
          "output_type": "execute_result",
          "data": {
            "text/plain": [
              "<tf.Tensor: shape=(2, 3), dtype=int32, numpy=\n",
              "array([[1, 2, 3],\n",
              "       [4, 6, 5]], dtype=int32)>"
            ]
          },
          "metadata": {},
          "execution_count": 4
        }
      ]
    },
    {
      "cell_type": "code",
      "source": [
        "tf_zeros_like=tf.zeros_like(cont_2td)\n",
        "tf_zeros_like"
      ],
      "metadata": {
        "colab": {
          "base_uri": "https://localhost:8080/"
        },
        "id": "9t62XFiaZ8yv",
        "outputId": "a7bf87a4-2d22-428f-fdcb-c8ded96d5a92"
      },
      "execution_count": 5,
      "outputs": [
        {
          "output_type": "execute_result",
          "data": {
            "text/plain": [
              "<tf.Tensor: shape=(2, 3), dtype=int32, numpy=\n",
              "array([[0, 0, 0],\n",
              "       [0, 0, 0]], dtype=int32)>"
            ]
          },
          "metadata": {},
          "execution_count": 5
        }
      ]
    },
    {
      "cell_type": "code",
      "source": [
        "var_2td=tf.Variable([[1,2,3],[4,6,5]])\n",
        "var_2td"
      ],
      "metadata": {
        "colab": {
          "base_uri": "https://localhost:8080/"
        },
        "id": "_toB2bmGaR7Y",
        "outputId": "fe489739-6c5e-4750-a272-d6917d45158b"
      },
      "execution_count": 6,
      "outputs": [
        {
          "output_type": "execute_result",
          "data": {
            "text/plain": [
              "<tf.Variable 'Variable:0' shape=(2, 3) dtype=int32, numpy=\n",
              "array([[1, 2, 3],\n",
              "       [4, 6, 5]], dtype=int32)>"
            ]
          },
          "metadata": {},
          "execution_count": 6
        }
      ]
    },
    {
      "cell_type": "code",
      "source": [
        "tf_zeros_like=tf.zeros_like(var_2td)\n",
        "tf_zeros_like"
      ],
      "metadata": {
        "colab": {
          "base_uri": "https://localhost:8080/"
        },
        "id": "Fnquh0A5aYLH",
        "outputId": "ea82dc0c-16e5-4920-9dbe-4504d9feb34d"
      },
      "execution_count": 7,
      "outputs": [
        {
          "output_type": "execute_result",
          "data": {
            "text/plain": [
              "<tf.Tensor: shape=(2, 3), dtype=int32, numpy=\n",
              "array([[0, 0, 0],\n",
              "       [0, 0, 0]], dtype=int32)>"
            ]
          },
          "metadata": {},
          "execution_count": 7
        }
      ]
    },
    {
      "cell_type": "markdown",
      "source": [
        "#tf.zeros_initializer()\n",
        "initializer that generates tensors initialized to **0**"
      ],
      "metadata": {
        "id": "yii8IPxwav0b"
      }
    },
    {
      "cell_type": "code",
      "source": [
        "def zeros_variable(shape,dtype,initializer):\n",
        "  return tf.Variable(initializer(shape=shape,dtype=dtype))"
      ],
      "metadata": {
        "id": "UV332_s_bBeI"
      },
      "execution_count": 9,
      "outputs": []
    },
    {
      "cell_type": "code",
      "source": [
        "zeros_variable(shape=(2,2),dtype=tf.float32,initializer=tf.zeros_initializer())"
      ],
      "metadata": {
        "colab": {
          "base_uri": "https://localhost:8080/"
        },
        "id": "SrOsG-ykbERe",
        "outputId": "4bf7a042-6635-4c5c-8b1d-7029e1ce42bd"
      },
      "execution_count": 10,
      "outputs": [
        {
          "output_type": "execute_result",
          "data": {
            "text/plain": [
              "<tf.Variable 'Variable:0' shape=(2, 2) dtype=float32, numpy=\n",
              "array([[0., 0.],\n",
              "       [0., 0.]], dtype=float32)>"
            ]
          },
          "metadata": {},
          "execution_count": 10
        }
      ]
    },
    {
      "cell_type": "markdown",
      "source": [
        "if u want to do in single line"
      ],
      "metadata": {
        "id": "sWKPMvOjbUXD"
      }
    },
    {
      "cell_type": "code",
      "source": [
        "tf.Variable(tf.zeros_initializer()(shape=(2,2),dtype=tf.float32))"
      ],
      "metadata": {
        "colab": {
          "base_uri": "https://localhost:8080/"
        },
        "id": "qyWMeqimcjQu",
        "outputId": "e5351003-7de8-42c1-8f5a-b6952d4f430a"
      },
      "execution_count": 13,
      "outputs": [
        {
          "output_type": "execute_result",
          "data": {
            "text/plain": [
              "<tf.Variable 'Variable:0' shape=(2, 2) dtype=float32, numpy=\n",
              "array([[0., 0.],\n",
              "       [0., 0.]], dtype=float32)>"
            ]
          },
          "metadata": {},
          "execution_count": 13
        }
      ]
    }
  ]
}